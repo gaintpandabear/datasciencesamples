{
 "cells": [
  {
   "cell_type": "code",
   "execution_count": 1,
   "metadata": {},
   "outputs": [],
   "source": [
    "import pandas as pd\n",
    "import numpy as np\n",
    "from sklearn.preprocessing import Imputer\n",
    "from sklearn.preprocessing import MinMaxScaler\n",
    "from sklearn.model_selection import train_test_split\n",
    "from sklearn.linear_model import LinearRegression\n",
    "from sklearn.metrics import mean_squared_error\n",
    "import matplotlib.pyplot as plt\n",
    "\n",
    "np.set_printoptions(threshold=np.nan)\n",
    "\n",
    "#Read data from the CSV\n",
    "df = pd.read_csv(\"data.csv\")"
   ]
  },
  {
   "cell_type": "code",
   "execution_count": 2,
   "metadata": {},
   "outputs": [],
   "source": [
    "#Perform one hot encoding of the Country & region columns\n",
    "onehot_country = pd.get_dummies(df['Country'])\n",
    "onehot_region = pd.get_dummies(df['Region'])"
   ]
  },
  {
   "cell_type": "code",
   "execution_count": 3,
   "metadata": {},
   "outputs": [],
   "source": [
    "df=df.drop('Country', axis =1)\n",
    "df=df.drop('Region', axis =1)"
   ]
  },
  {
   "cell_type": "code",
   "execution_count": 4,
   "metadata": {},
   "outputs": [],
   "source": [
    "df = df.join(onehot_country)\n",
    "df = df.join(onehot_region)"
   ]
  },
  {
   "cell_type": "code",
   "execution_count": 5,
   "metadata": {},
   "outputs": [],
   "source": [
    "# Get the GDP column into a new data frame\n",
    "df_labels = df['GDP']"
   ]
  },
  {
   "cell_type": "code",
   "execution_count": 6,
   "metadata": {},
   "outputs": [],
   "source": [
    "#Drop the GDP feature from the original features data frame\n",
    "\n",
    "df=df.drop('GDP', axis =1)"
   ]
  },
  {
   "cell_type": "code",
   "execution_count": 7,
   "metadata": {},
   "outputs": [],
   "source": [
    "#Turn the features data frame into a numpy array\n",
    "features = df.values\n",
    "\n",
    "#Create imputer to insert nan with mean in the features numpy array\n",
    "imp = Imputer(missing_values=np.nan, strategy='median')\n",
    "imp.fit(features)       \n",
    "\n",
    "features = imp.transform(features)"
   ]
  },
  {
   "cell_type": "code",
   "execution_count": 8,
   "metadata": {},
   "outputs": [],
   "source": [
    "#Turn the labels data frame into a numpy array\n",
    "\n",
    "labels = df_labels.values\n",
    "labels = np.reshape(labels, (-1, 1))\n",
    "\n",
    "#Create imputer to insert nan with mean in the labels numpy array\n",
    "imp.fit(labels)       \n",
    "labels = imp.transform(labels)\n",
    " \n",
    "#Use a Min-Max Scaler to scale data\n",
    "scalar_features = MinMaxScaler()\n",
    "scalar_labels = MinMaxScaler()\n",
    "\n",
    "features = scalar_features.fit_transform(features)\n",
    "labels =  scalar_labels.fit_transform(labels)"
   ]
  },
  {
   "cell_type": "code",
   "execution_count": 9,
   "metadata": {},
   "outputs": [],
   "source": [
    "#Split the data into test and train numpy array\n",
    "X_train, X_test, y_train, y_test = train_test_split(features, labels, test_size=0.2)"
   ]
  },
  {
   "cell_type": "code",
   "execution_count": 10,
   "metadata": {},
   "outputs": [
    {
     "data": {
      "text/plain": [
       "LinearRegression(copy_X=True, fit_intercept=True, n_jobs=1, normalize=False)"
      ]
     },
     "execution_count": 10,
     "metadata": {},
     "output_type": "execute_result"
    }
   ],
   "source": [
    "#Apply Linear regression\n",
    "\n",
    "lin_reg = LinearRegression()\n",
    "lin_reg.fit(X_train, y_train)"
   ]
  },
  {
   "cell_type": "code",
   "execution_count": 11,
   "metadata": {},
   "outputs": [],
   "source": [
    "#Predict values using X_test\n",
    "y_pred = lin_reg.predict(X_test)"
   ]
  },
  {
   "cell_type": "code",
   "execution_count": 12,
   "metadata": {},
   "outputs": [
    {
     "data": {
      "text/plain": [
       "25194409.546062328"
      ]
     },
     "execution_count": 12,
     "metadata": {},
     "output_type": "execute_result"
    }
   ],
   "source": [
    "#Inverse transform the predictions and actual data\n",
    "y_test = scalar_labels.inverse_transform(y_test)\n",
    "y_pred = scalar_labels.inverse_transform(y_pred)\n",
    "\n",
    "mse = mean_squared_error(y_pred, y_test)\n",
    "mse"
   ]
  },
  {
   "cell_type": "code",
   "execution_count": 13,
   "metadata": {},
   "outputs": [],
   "source": [
    "from sklearn.metrics import r2_score\n",
    "\n",
    "r_squared = r2_score(y_test, y_pred)"
   ]
  },
  {
   "cell_type": "code",
   "execution_count": 14,
   "metadata": {},
   "outputs": [
    {
     "data": {
      "text/plain": [
       "0.7304402650331161"
      ]
     },
     "execution_count": 14,
     "metadata": {},
     "output_type": "execute_result"
    }
   ],
   "source": [
    "r_squared"
   ]
  },
  {
   "cell_type": "code",
   "execution_count": 15,
   "metadata": {
    "scrolled": true
   },
   "outputs": [
    {
     "data": {
      "text/plain": [
       "26.999324141892167"
      ]
     },
     "execution_count": 15,
     "metadata": {},
     "output_type": "execute_result"
    }
   ],
   "source": [
    "np.average(((y_test-y_pred)/y_test)*100)"
   ]
  },
  {
   "cell_type": "code",
   "execution_count": 16,
   "metadata": {},
   "outputs": [
    {
     "data": {
      "text/plain": [
       "array([[  17.07570668],\n",
       "       [ -33.7941859 ],\n",
       "       [ -29.41223405],\n",
       "       [ -36.40011389],\n",
       "       [ 121.03651483],\n",
       "       [ -21.12980805],\n",
       "       [ -44.39858148],\n",
       "       [  34.85276257],\n",
       "       [ -37.45821309],\n",
       "       [  22.00723436],\n",
       "       [  27.96454253],\n",
       "       [  39.63864836],\n",
       "       [  17.65363572],\n",
       "       [ 132.37678738],\n",
       "       [  29.35186514],\n",
       "       [  15.59105181],\n",
       "       [ -18.7532606 ],\n",
       "       [  25.83105606],\n",
       "       [   9.7340968 ],\n",
       "       [ -10.50283107],\n",
       "       [ 201.45511578],\n",
       "       [ 504.61173608],\n",
       "       [  43.82607084],\n",
       "       [   6.52972234],\n",
       "       [  -9.02526603],\n",
       "       [  10.50858605],\n",
       "       [  45.20430168],\n",
       "       [ -96.99246668],\n",
       "       [   1.61397541],\n",
       "       [ 124.28812145],\n",
       "       [ -18.45441602],\n",
       "       [ -59.87823384],\n",
       "       [  36.63575624],\n",
       "       [  71.17580528],\n",
       "       [  65.14749064],\n",
       "       [ -97.14791466],\n",
       "       [-167.63505944],\n",
       "       [ -13.70261785],\n",
       "       [ 258.17467667],\n",
       "       [-369.09327146],\n",
       "       [-273.54951487],\n",
       "       [  34.62510408],\n",
       "       [ -36.42834433],\n",
       "       [ 523.05243626],\n",
       "       [ 153.17131358],\n",
       "       [  42.59112924]])"
      ]
     },
     "execution_count": 16,
     "metadata": {},
     "output_type": "execute_result"
    }
   ],
   "source": [
    "((y_test-y_pred)/y_test)*100"
   ]
  },
  {
   "cell_type": "code",
   "execution_count": 17,
   "metadata": {},
   "outputs": [
    {
     "data": {
      "image/png": "[encoded data removed]",
      "text/plain": [
       "<Figure size 432x288 with 1 Axes>"
      ]
     },
     "metadata": {},
     "output_type": "display_data"
    }
   ],
   "source": [
    "plt.scatter(y_test, y_pred)\n",
    "plt.show()"
   ]
  },
  {
   "cell_type": "code",
   "execution_count": null,
   "metadata": {},
   "outputs": [],
   "source": []
  }
 ],
 "metadata": {
  "kernelspec": {
   "display_name": "Python 3",
   "language": "python",
   "name": "python3"
  },
  "language_info": {
   "codemirror_mode": {
    "name": "ipython",
    "version": 3
   },
   "file_extension": ".py",
   "mimetype": "text/x-python",
   "name": "python",
   "nbconvert_exporter": "python",
   "pygments_lexer": "ipython3",
   "version": "3.5.2"
  }
 },
 "nbformat": 4,
 "nbformat_minor": 2
}
